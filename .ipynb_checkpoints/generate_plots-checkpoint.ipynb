{
 "cells": [
  {
   "cell_type": "code",
   "execution_count": 3,
   "metadata": {},
   "outputs": [],
   "source": [
    "import pandas as pd\n",
    "import matplotlib.pyplot as pit\n",
    "import seaborn as sns"
   ]
  },
  {
   "cell_type": "code",
   "execution_count": 4,
   "metadata": {},
   "outputs": [],
   "source": [
    "df = pd.read_csv('data_cleaned.csv')"
   ]
  },
  {
   "cell_type": "code",
   "execution_count": 5,
   "metadata": {},
   "outputs": [
    {
     "data": {
      "text/html": [
       "<div>\n",
       "<style scoped>\n",
       "    .dataframe tbody tr th:only-of-type {\n",
       "        vertical-align: middle;\n",
       "    }\n",
       "\n",
       "    .dataframe tbody tr th {\n",
       "        vertical-align: top;\n",
       "    }\n",
       "\n",
       "    .dataframe thead th {\n",
       "        text-align: right;\n",
       "    }\n",
       "</style>\n",
       "<table border=\"1\" class=\"dataframe\">\n",
       "  <thead>\n",
       "    <tr style=\"text-align: right;\">\n",
       "      <th></th>\n",
       "      <th>Job Title</th>\n",
       "      <th>Salary Estimate</th>\n",
       "      <th>Job Description</th>\n",
       "      <th>Rating</th>\n",
       "      <th>Company Name</th>\n",
       "      <th>Location</th>\n",
       "      <th>Size</th>\n",
       "      <th>Type of ownership</th>\n",
       "      <th>Revenue</th>\n",
       "      <th>min_salary</th>\n",
       "      <th>max_salary</th>\n",
       "      <th>avg_salary</th>\n",
       "      <th>company_txt</th>\n",
       "      <th>python_required</th>\n",
       "    </tr>\n",
       "  </thead>\n",
       "  <tbody>\n",
       "    <tr>\n",
       "      <th>0</th>\n",
       "      <td>Senior Data Scientist // Scientifique des donn...</td>\n",
       "      <td>CA$58k-CA$90k (Glassdoor Est.)</td>\n",
       "      <td>Reporting to the Analytics Manager, the Senior...</td>\n",
       "      <td>4.1</td>\n",
       "      <td>SSENSE\\n4.1</td>\n",
       "      <td>Montreal</td>\n",
       "      <td>501 to 1000 Employees</td>\n",
       "      <td>Company - Private</td>\n",
       "      <td>Unknown / Non-Applicable</td>\n",
       "      <td>58</td>\n",
       "      <td>90</td>\n",
       "      <td>74.0</td>\n",
       "      <td>SSENSE\\n</td>\n",
       "      <td>1</td>\n",
       "    </tr>\n",
       "    <tr>\n",
       "      <th>1</th>\n",
       "      <td>Data Scientist, Fraud Analytics</td>\n",
       "      <td>CA$58k-CA$90k (Glassdoor Est.)</td>\n",
       "      <td>Data Scientist Fraud Analytics\\n\\nFraud Manage...</td>\n",
       "      <td>3.6</td>\n",
       "      <td>Interac\\n3.6</td>\n",
       "      <td>Toronto</td>\n",
       "      <td>201 to 500 Employees</td>\n",
       "      <td>Company - Private</td>\n",
       "      <td>Unknown / Non-Applicable</td>\n",
       "      <td>58</td>\n",
       "      <td>90</td>\n",
       "      <td>74.0</td>\n",
       "      <td>Interac\\n</td>\n",
       "      <td>1</td>\n",
       "    </tr>\n",
       "    <tr>\n",
       "      <th>2</th>\n",
       "      <td>Product Manager, Data Science</td>\n",
       "      <td>CA$58k-CA$90k (Glassdoor Est.)</td>\n",
       "      <td>Numerator is a data and technology company rei...</td>\n",
       "      <td>4.1</td>\n",
       "      <td>Numerator\\n4.1</td>\n",
       "      <td>Ottawa</td>\n",
       "      <td>1001 to 5000 Employees</td>\n",
       "      <td>Company - Private</td>\n",
       "      <td>$100 to $500 million (USD)</td>\n",
       "      <td>58</td>\n",
       "      <td>90</td>\n",
       "      <td>74.0</td>\n",
       "      <td>Numerator\\n</td>\n",
       "      <td>0</td>\n",
       "    </tr>\n",
       "    <tr>\n",
       "      <th>3</th>\n",
       "      <td>GCP Data engineer with Dataproc + Big Table</td>\n",
       "      <td>CA$58k-CA$90k (Glassdoor Est.)</td>\n",
       "      <td>GAL AeroStaff., which provides specialized sta...</td>\n",
       "      <td>4.0</td>\n",
       "      <td>GAL Aerostaff\\n4.0</td>\n",
       "      <td>Remote</td>\n",
       "      <td>1 to 50 Employees</td>\n",
       "      <td>Company - Private</td>\n",
       "      <td>Unknown / Non-Applicable</td>\n",
       "      <td>58</td>\n",
       "      <td>90</td>\n",
       "      <td>74.0</td>\n",
       "      <td>GAL Aerostaff\\n</td>\n",
       "      <td>0</td>\n",
       "    </tr>\n",
       "    <tr>\n",
       "      <th>4</th>\n",
       "      <td>Data Mining Specialist</td>\n",
       "      <td>CA$58k-CA$90k (Glassdoor Est.)</td>\n",
       "      <td>What we do\\nInterested in solving problems, en...</td>\n",
       "      <td>5.0</td>\n",
       "      <td>Global Spatial Technology Solutions\\n5.0</td>\n",
       "      <td>Dartmouth</td>\n",
       "      <td>1 to 50 Employees</td>\n",
       "      <td>Unknown</td>\n",
       "      <td>Less than $1 million (USD)</td>\n",
       "      <td>58</td>\n",
       "      <td>90</td>\n",
       "      <td>74.0</td>\n",
       "      <td>Global Spatial Technology Solutions\\n</td>\n",
       "      <td>1</td>\n",
       "    </tr>\n",
       "  </tbody>\n",
       "</table>\n",
       "</div>"
      ],
      "text/plain": [
       "                                           Job Title  \\\n",
       "0  Senior Data Scientist // Scientifique des donn...   \n",
       "1                    Data Scientist, Fraud Analytics   \n",
       "2                      Product Manager, Data Science   \n",
       "3        GCP Data engineer with Dataproc + Big Table   \n",
       "4                             Data Mining Specialist   \n",
       "\n",
       "                  Salary Estimate  \\\n",
       "0  CA$58k-CA$90k (Glassdoor Est.)   \n",
       "1  CA$58k-CA$90k (Glassdoor Est.)   \n",
       "2  CA$58k-CA$90k (Glassdoor Est.)   \n",
       "3  CA$58k-CA$90k (Glassdoor Est.)   \n",
       "4  CA$58k-CA$90k (Glassdoor Est.)   \n",
       "\n",
       "                                     Job Description  Rating  \\\n",
       "0  Reporting to the Analytics Manager, the Senior...     4.1   \n",
       "1  Data Scientist Fraud Analytics\\n\\nFraud Manage...     3.6   \n",
       "2  Numerator is a data and technology company rei...     4.1   \n",
       "3  GAL AeroStaff., which provides specialized sta...     4.0   \n",
       "4  What we do\\nInterested in solving problems, en...     5.0   \n",
       "\n",
       "                               Company Name   Location  \\\n",
       "0                               SSENSE\\n4.1   Montreal   \n",
       "1                              Interac\\n3.6    Toronto   \n",
       "2                            Numerator\\n4.1     Ottawa   \n",
       "3                        GAL Aerostaff\\n4.0     Remote   \n",
       "4  Global Spatial Technology Solutions\\n5.0  Dartmouth   \n",
       "\n",
       "                     Size  Type of ownership                     Revenue  \\\n",
       "0   501 to 1000 Employees  Company - Private    Unknown / Non-Applicable   \n",
       "1    201 to 500 Employees  Company - Private    Unknown / Non-Applicable   \n",
       "2  1001 to 5000 Employees  Company - Private  $100 to $500 million (USD)   \n",
       "3       1 to 50 Employees  Company - Private    Unknown / Non-Applicable   \n",
       "4       1 to 50 Employees            Unknown  Less than $1 million (USD)   \n",
       "\n",
       "   min_salary  max_salary  avg_salary                            company_txt  \\\n",
       "0          58          90        74.0                               SSENSE\\n   \n",
       "1          58          90        74.0                              Interac\\n   \n",
       "2          58          90        74.0                            Numerator\\n   \n",
       "3          58          90        74.0                        GAL Aerostaff\\n   \n",
       "4          58          90        74.0  Global Spatial Technology Solutions\\n   \n",
       "\n",
       "   python_required  \n",
       "0                1  \n",
       "1                1  \n",
       "2                0  \n",
       "3                0  \n",
       "4                1  "
      ]
     },
     "execution_count": 5,
     "metadata": {},
     "output_type": "execute_result"
    }
   ],
   "source": [
    "df.head()"
   ]
  },
  {
   "cell_type": "code",
   "execution_count": 6,
   "metadata": {},
   "outputs": [
    {
     "data": {
      "text/plain": [
       "Index(['Job Title', 'Salary Estimate', 'Job Description', 'Rating',\n",
       "       'Company Name', 'Location', 'Size', 'Type of ownership', 'Revenue',\n",
       "       'min_salary', 'max_salary', 'avg_salary', 'company_txt',\n",
       "       'python_required'],\n",
       "      dtype='object')"
      ]
     },
     "execution_count": 6,
     "metadata": {},
     "output_type": "execute_result"
    }
   ],
   "source": [
    "df.columns"
   ]
  },
  {
   "cell_type": "code",
   "execution_count": 13,
   "metadata": {},
   "outputs": [
    {
     "name": "stdout",
     "output_type": "stream",
     "text": [
      "Toronto                       15\n",
      "Vancouver                     11\n",
      "Burnaby                        7\n",
      "Montreal                       6\n",
      "Halifax                        5\n",
      "Ottawa                         2\n",
      "Calgary                        2\n",
      "Hamilton                       1\n",
      "Winnipeg                       1\n",
      "Remote                         1\n",
      "Newmarket                      1\n",
      "Ontario                        1\n",
      "Edmonton                       1\n",
      "Woodbridge                     1\n",
      "Canal Flats                    1\n",
      "Victoria                       1\n",
      "Saint-Bruno-de-Montarville     1\n",
      "Kingston                       1\n",
      "Dartmouth                      1\n",
      "Name: Location, dtype: int64\n"
     ]
    }
   ],
   "source": [
    "loc = df['Location'].value_counts()\n",
    "print(loc)"
   ]
  },
  {
   "cell_type": "code",
   "execution_count": 8,
   "metadata": {},
   "outputs": [
    {
     "data": {
      "text/plain": [
       "<matplotlib.axes._subplots.AxesSubplot at 0x1b7ff2d8ac0>"
      ]
     },
     "execution_count": 8,
     "metadata": {},
     "output_type": "execute_result"
    },
    {
     "data": {
      "image/png": "[encoded data removed]",
      "text/plain": [
       "<Figure size 432x288 with 1 Axes>"
      ]
     },
     "metadata": {
      "needs_background": "light"
     },
     "output_type": "display_data"
    }
   ],
   "source": [
    "df.avg_salary.hist()"
   ]
  },
  {
   "cell_type": "code",
   "execution_count": 14,
   "metadata": {},
   "outputs": [
    {
     "data": {
      "text/plain": [
       "<matplotlib.axes._subplots.AxesSubplot at 0x1b7ffc13310>"
      ]
     },
     "execution_count": 14,
     "metadata": {},
     "output_type": "execute_result"
    },
    {
     "data": {
      "image/png": "[encoded data removed]",
      "text/plain": [
       "<Figure size 432x288 with 1 Axes>"
      ]
     },
     "metadata": {
      "needs_background": "light"
     },
     "output_type": "display_data"
    }
   ],
   "source": [
    "df.boxplot(column = 'Rating')"
   ]
  },
  {
   "cell_type": "code",
   "execution_count": 17,
   "metadata": {},
   "outputs": [
    {
     "data": {
      "text/html": [
       "<div>\n",
       "<style scoped>\n",
       "    .dataframe tbody tr th:only-of-type {\n",
       "        vertical-align: middle;\n",
       "    }\n",
       "\n",
       "    .dataframe tbody tr th {\n",
       "        vertical-align: top;\n",
       "    }\n",
       "\n",
       "    .dataframe thead th {\n",
       "        text-align: right;\n",
       "    }\n",
       "</style>\n",
       "<table border=\"1\" class=\"dataframe\">\n",
       "  <thead>\n",
       "    <tr style=\"text-align: right;\">\n",
       "      <th></th>\n",
       "      <th>Rating</th>\n",
       "      <th>avg_salary</th>\n",
       "    </tr>\n",
       "  </thead>\n",
       "  <tbody>\n",
       "    <tr>\n",
       "      <th>Rating</th>\n",
       "      <td>1.000000</td>\n",
       "      <td>-0.306712</td>\n",
       "    </tr>\n",
       "    <tr>\n",
       "      <th>avg_salary</th>\n",
       "      <td>-0.306712</td>\n",
       "      <td>1.000000</td>\n",
       "    </tr>\n",
       "  </tbody>\n",
       "</table>\n",
       "</div>"
      ],
      "text/plain": [
       "              Rating  avg_salary\n",
       "Rating      1.000000   -0.306712\n",
       "avg_salary -0.306712    1.000000"
      ]
     },
     "execution_count": 17,
     "metadata": {},
     "output_type": "execute_result"
    }
   ],
   "source": [
    "df[['Rating','avg_salary']].corr()"
   ]
  },
  {
   "cell_type": "code",
   "execution_count": null,
   "metadata": {},
   "outputs": [],
   "source": []
  }
 ],
 "metadata": {
  "kernelspec": {
   "display_name": "Python 3",
   "language": "python",
   "name": "python3"
  },
  "language_info": {
   "codemirror_mode": {
    "name": "ipython",
    "version": 3
   },
   "file_extension": ".py",
   "mimetype": "text/x-python",
   "name": "python",
   "nbconvert_exporter": "python",
   "pygments_lexer": "ipython3",
   "version": "3.8.3"
  }
 },
 "nbformat": 4,
 "nbformat_minor": 4
}
